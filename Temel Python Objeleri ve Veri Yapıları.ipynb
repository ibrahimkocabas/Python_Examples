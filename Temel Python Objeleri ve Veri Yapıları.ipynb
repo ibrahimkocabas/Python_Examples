{
 "cells": [
  {
   "cell_type": "markdown",
   "metadata": {},
   "source": [
    "## Kodlama Egzersizi"
   ]
  },
  {
   "cell_type": "markdown",
   "metadata": {},
   "source": [
    "### Oyuncu Kaydetme"
   ]
  },
  {
   "cell_type": "code",
   "execution_count": 3,
   "metadata": {},
   "outputs": [
    {
     "name": "stdout",
     "output_type": "stream",
     "text": [
      "***Oyuncu Kaydetme Programı***\n",
      "\n"
     ]
    },
    {
     "name": "stdin",
     "output_type": "stream",
     "text": [
      "Oyuncunun Adı: ibrahim\n",
      "Oyuncunun Soyadı: kocabaş\n",
      "Oyuncunun Takımı: beşiktaş\n"
     ]
    },
    {
     "name": "stdout",
     "output_type": "stream",
     "text": [
      "Bilgiler Kaydediliyor ...\n",
      "\n",
      "Oyuncu Adı:ibrahim\n",
      "Oyuncu Soyadı:kocabaş\n",
      "Oyuncu Takımı:beşiktaş\n",
      "\n",
      "Bilgiler Kaydedildi ...\n"
     ]
    }
   ],
   "source": [
    "print(\"***Oyuncu Kaydetme Programı***\\n\")\n",
    "\n",
    "ad = input(\"Oyuncunun Adı:\")\n",
    "soyad = input(\"Oyuncunun Soyadı:\")\n",
    "takım = input(\"Oyuncunun Takımı:\")\n",
    "\n",
    "bilgiler = [ad,soyad,takım]\n",
    "\n",
    "print(\"Bilgiler Kaydediliyor ...\\n\")\n",
    "\n",
    "print(\"Oyuncu Adı:{}\\nOyuncu Soyadı:{}\\nOyuncu Takımı:{}\\n\".format(bilgiler[0],bilgiler[1],bilgiler[2]))\n",
    "\n",
    "print(\"Bilgiler Kaydedildi ...\")"
   ]
  },
  {
   "cell_type": "markdown",
   "metadata": {},
   "source": [
    "### Karekök Bulma"
   ]
  },
  {
   "cell_type": "code",
   "execution_count": 6,
   "metadata": {},
   "outputs": [
    {
     "name": "stdin",
     "output_type": "stream",
     "text": [
      "a: 1\n",
      "b: 5\n",
      "c: 6\n"
     ]
    },
    {
     "name": "stdout",
     "output_type": "stream",
     "text": [
      "Birinci Kök:-3.0\n",
      "İkinci Kök:-2.0\n"
     ]
    }
   ],
   "source": [
    "a = int(input(\"a:\"))\n",
    "b = int(input(\"b:\"))\n",
    "c = int(input(\"c:\"))\n",
    "\n",
    "delta = b**2 - 4*a*c\n",
    "\n",
    "x1 = (-b - delta**0.5) / 2*a\n",
    "x2 = (-b + delta**0.5) / 2*a\n",
    "\n",
    "print(\"Birinci Kök:{}\\nİkinci Kök:{}\".format(x1,x2))"
   ]
  },
  {
   "cell_type": "markdown",
   "metadata": {},
   "source": [
    "##### **Soru 1** "
   ]
  },
  {
   "cell_type": "markdown",
   "metadata": {},
   "source": [
    "Kullanıcıdan aldığınız 3 tane sayıyı çarparak ekrana yazdırın. Ekrana yazdırma işlemini format metoduyla yapmaya çalışın."
   ]
  },
  {
   "cell_type": "code",
   "execution_count": 2,
   "metadata": {},
   "outputs": [
    {
     "name": "stdin",
     "output_type": "stream",
     "text": [
      "1.Sayıyı Giriniz: 5\n",
      "2.Sayıyı Giriniz: 4\n",
      "3.Sayıyı Giriniz: 3\n"
     ]
    },
    {
     "name": "stdout",
     "output_type": "stream",
     "text": [
      "Çarpım: 5 x 4 x 3 = 60\n"
     ]
    }
   ],
   "source": [
    "a = int(input(\"1.Sayıyı Giriniz:\"))\n",
    "b = int(input(\"2.Sayıyı Giriniz:\"))\n",
    "c = int(input(\"3.Sayıyı Giriniz:\"))\n",
    "\n",
    "carpım = a * b * c\n",
    "\n",
    "print(\"Çarpım: {} x {} x {} = {}\".format(a,b,c,carpım))"
   ]
  },
  {
   "cell_type": "markdown",
   "metadata": {},
   "source": [
    "##### **Soru 2**"
   ]
  },
  {
   "cell_type": "markdown",
   "metadata": {},
   "source": [
    "Kullanıcıdan aldığınız boy ve kilo değerlerine göre kullanıcının beden kitle indeksini bulun.\n",
    "\n",
    "Beden Kitle İndeksi : Kilo / Boy(m) Boy(m)"
   ]
  },
  {
   "cell_type": "code",
   "execution_count": 4,
   "metadata": {},
   "outputs": [
    {
     "name": "stdin",
     "output_type": "stream",
     "text": [
      "Boyunuzu Giriniz: 1.90\n",
      "Kilonuzu Giriniz: 77\n"
     ]
    },
    {
     "name": "stdout",
     "output_type": "stream",
     "text": [
      "Beden Kitle İndeksi:  21.329639889196677\n"
     ]
    }
   ],
   "source": [
    "boy = float(input(\"Boyunuzu Giriniz:\"))\n",
    "kilo = float(input(\"Kilonuzu Giriniz:\"))\n",
    "\n",
    "print(\"Beden Kitle İndeksi: \" ,kilo / (boy**2))"
   ]
  },
  {
   "cell_type": "markdown",
   "metadata": {},
   "source": [
    "##### **Soru 3**"
   ]
  },
  {
   "cell_type": "markdown",
   "metadata": {},
   "source": [
    "Bir aracın kilometrede ne kadar yaktığı ve kaç kilometre yol yaptığı bilgilerini alın ve sürücünü toplam ne kadar ödemesini gerektiğini hesaplayın."
   ]
  },
  {
   "cell_type": "code",
   "execution_count": 8,
   "metadata": {},
   "outputs": [
    {
     "name": "stdin",
     "output_type": "stream",
     "text": [
      "Kilometre'de Yakan Miktar: 0.50\n",
      "Kaç Kilometre(km) Yol Yaptınız: 750\n"
     ]
    },
    {
     "name": "stdout",
     "output_type": "stream",
     "text": [
      "Ödenmesi Gereken Tutar : 375.0 TL\n"
     ]
    }
   ],
   "source": [
    "yakan_miktar = float(input(\"Kilometre'de Yakan Miktar:\"))\n",
    "kilometre = int(input(\"Kaç Kilometre(km) Yol Yaptınız:\"))\n",
    "\n",
    "print(\"Ödenmesi Gereken Tutar : {} TL\".format(yakan_miktar * kilometre))"
   ]
  },
  {
   "cell_type": "markdown",
   "metadata": {},
   "source": [
    "##### **Soru 4**"
   ]
  },
  {
   "cell_type": "markdown",
   "metadata": {},
   "source": [
    "Kullanıcıdan ad,soyad ve numara bilgisini alarak bunları alt alta ekrana yazdırın."
   ]
  },
  {
   "cell_type": "code",
   "execution_count": 10,
   "metadata": {},
   "outputs": [
    {
     "name": "stdin",
     "output_type": "stream",
     "text": [
      "Ad: İbrahim\n",
      "Soyad: Kocabaş\n",
      "Numara: 12345\n"
     ]
    },
    {
     "name": "stdout",
     "output_type": "stream",
     "text": [
      "\n",
      "Bilgiler...\n",
      " \n",
      "İbrahim\n",
      "Kocabaş\n",
      "12345\n",
      "\n"
     ]
    }
   ],
   "source": [
    "ad = input(\"Ad:\")\n",
    "soyad = input(\"Soyad:\")\n",
    "numara = int(input(\"Numara:\"))\n",
    "\n",
    "print(\"\\nBilgiler...\\n \")\n",
    "print(\"{}\\n{}\\n{}\\n\".format(ad,soyad,numara))"
   ]
  },
  {
   "cell_type": "markdown",
   "metadata": {},
   "source": [
    "##### **Soru 5**"
   ]
  },
  {
   "cell_type": "markdown",
   "metadata": {},
   "source": [
    "Kullanıcıdan iki tane sayı isteyin ve bu sayıların değerlerini birbirleriyle değiştirin."
   ]
  },
  {
   "cell_type": "code",
   "execution_count": 17,
   "metadata": {},
   "outputs": [
    {
     "name": "stdin",
     "output_type": "stream",
     "text": [
      "a: 4\n",
      "b: 8\n"
     ]
    },
    {
     "name": "stdout",
     "output_type": "stream",
     "text": [
      "Değiştirilmeden Önceki Değer:\n",
      " a:4 b:8\n",
      "Değiştirildikten Sonraki Değer:\n",
      " a:8 b:4\n"
     ]
    }
   ],
   "source": [
    "a = int(input(\"a:\"))\n",
    "b = int(input(\"b:\"))\n",
    "\n",
    "print(\"Değiştirilmeden Önceki Değer:\\n a:{} b:{}\".format(a,b))\n",
    "a,b=b,a\n",
    "print(\"Değiştirildikten Sonraki Değer:\\n a:{} b:{}\".format(a,b))"
   ]
  },
  {
   "cell_type": "markdown",
   "metadata": {},
   "source": [
    "##### **Soru 6**"
   ]
  },
  {
   "cell_type": "markdown",
   "metadata": {},
   "source": [
    "Kullanıcıdan bir dik üçgenin dik olan iki kenarını(a,b) alın ve hipotenüs uzunluğunu bulmaya çalışın."
   ]
  },
  {
   "cell_type": "code",
   "execution_count": 20,
   "metadata": {},
   "outputs": [
    {
     "name": "stdin",
     "output_type": "stream",
     "text": [
      "a: 3\n",
      "b: 4\n"
     ]
    },
    {
     "name": "stdout",
     "output_type": "stream",
     "text": [
      "Hipotenüs: 5.0\n"
     ]
    }
   ],
   "source": [
    "a = int(input(\"a:\"))\n",
    "b = int(input(\"b:\"))\n",
    "hipotenus = (a**2 + b**2)**0.5\n",
    "\n",
    "print(\"Hipotenüs:\",hipotenus)"
   ]
  },
  {
   "cell_type": "code",
   "execution_count": null,
   "metadata": {},
   "outputs": [],
   "source": []
  }
 ],
 "metadata": {
  "kernelspec": {
   "display_name": "Python 3",
   "language": "python",
   "name": "python3"
  },
  "language_info": {
   "codemirror_mode": {
    "name": "ipython",
    "version": 3
   },
   "file_extension": ".py",
   "mimetype": "text/x-python",
   "name": "python",
   "nbconvert_exporter": "python",
   "pygments_lexer": "ipython3",
   "version": "3.8.5"
  }
 },
 "nbformat": 4,
 "nbformat_minor": 4
}
