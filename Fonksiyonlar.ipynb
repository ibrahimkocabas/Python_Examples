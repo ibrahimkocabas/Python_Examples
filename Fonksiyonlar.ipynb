{
 "cells": [
  {
   "cell_type": "markdown",
   "metadata": {},
   "source": [
    "### Asal Sayı Bulma"
   ]
  },
  {
   "cell_type": "markdown",
   "metadata": {},
   "source": [
    "Asal sayılar 1'e ve kendisinden başka sayılara bölünmeyen sayılardır."
   ]
  },
  {
   "cell_type": "code",
   "execution_count": 6,
   "metadata": {
    "collapsed": true,
    "jupyter": {
     "outputs_hidden": true
    }
   },
   "outputs": [
    {
     "name": "stdout",
     "output_type": "stream",
     "text": [
      "Programdan çıkmak isterseniz q tuşuna basınız...\n"
     ]
    },
    {
     "name": "stdin",
     "output_type": "stream",
     "text": [
      "Sayı: 4\n"
     ]
    },
    {
     "name": "stdout",
     "output_type": "stream",
     "text": [
      "4 Asal bir sayı değildir.\n",
      "Programdan çıkmak isterseniz q tuşuna basınız...\n"
     ]
    },
    {
     "name": "stdin",
     "output_type": "stream",
     "text": [
      "Sayı: 5\n"
     ]
    },
    {
     "name": "stdout",
     "output_type": "stream",
     "text": [
      "5 Asal bir sayıdır.\n",
      "Programdan çıkmak isterseniz q tuşuna basınız...\n"
     ]
    },
    {
     "name": "stdin",
     "output_type": "stream",
     "text": [
      "Sayı: 37\n"
     ]
    },
    {
     "name": "stdout",
     "output_type": "stream",
     "text": [
      "37 Asal bir sayıdır.\n",
      "Programdan çıkmak isterseniz q tuşuna basınız...\n"
     ]
    },
    {
     "name": "stdin",
     "output_type": "stream",
     "text": [
      "Sayı: 49\n"
     ]
    },
    {
     "name": "stdout",
     "output_type": "stream",
     "text": [
      "49 Asal bir sayı değildir.\n",
      "Programdan çıkmak isterseniz q tuşuna basınız...\n"
     ]
    },
    {
     "name": "stdin",
     "output_type": "stream",
     "text": [
      "Sayı: 63\n"
     ]
    },
    {
     "name": "stdout",
     "output_type": "stream",
     "text": [
      "63 Asal bir sayı değildir.\n",
      "Programdan çıkmak isterseniz q tuşuna basınız...\n"
     ]
    },
    {
     "name": "stdin",
     "output_type": "stream",
     "text": [
      "Sayı: 97\n"
     ]
    },
    {
     "name": "stdout",
     "output_type": "stream",
     "text": [
      "97 Asal bir sayıdır.\n",
      "Programdan çıkmak isterseniz q tuşuna basınız...\n"
     ]
    },
    {
     "name": "stdin",
     "output_type": "stream",
     "text": [
      "Sayı: 17\n"
     ]
    },
    {
     "name": "stdout",
     "output_type": "stream",
     "text": [
      "17 Asal bir sayıdır.\n",
      "Programdan çıkmak isterseniz q tuşuna basınız...\n"
     ]
    },
    {
     "name": "stdin",
     "output_type": "stream",
     "text": [
      "Sayı: q\n"
     ]
    },
    {
     "name": "stdout",
     "output_type": "stream",
     "text": [
      "Program sonlandırıldı...\n"
     ]
    }
   ],
   "source": [
    "def asal_mi(sayı):\n",
    "    if (sayı == 1):\n",
    "        return False   # ne asal ne asal olmayan bir sayı olduğundan dolayı false \n",
    "    \n",
    "    elif (sayı == 2):\n",
    "        return True    # en küçük asal sayı olduğundan dolayı true dönecek. \n",
    "    \n",
    "    else:\n",
    "        for i in range(2,sayı):\n",
    "            if( sayı % i == 0):  # aldığımız sayı içindeki i değeri eğer tam bölüyorsa asal olmaz ve bundan dolayı false\n",
    "                return False\n",
    "            \n",
    "        return True   # döngü dışına çıkarak else durumuna girer ve sayıyının asal olduğunu gösterir.\n",
    "    \n",
    "while True:\n",
    "    \n",
    "    print(\"Programdan çıkmak isterseniz q tuşuna basınız...\")\n",
    "    sayı = (input(\"Sayı:\"))  # kullanıcıdan girmesi için sayı istiyoruz.\n",
    "    \n",
    "    if (sayı == \"q\"):   # kullanıcı çıkmak isterse q tuşuna basacak\n",
    "        print(\"Program sonlandırıldı...\")\n",
    "        break\n",
    "        \n",
    "    else:\n",
    "        sayı = int(sayı) # tür dönüşümü yaparak q'ya basmadığı durumda string'den interger'a dönüştürüyoruz.\n",
    "        \n",
    "        if(asal_mi(sayı)):                       # sayımızı if ile kontrol ederek asal mı değil mi bakıyoruz.\n",
    "            print(sayı,\"Asal bir sayıdır.\")\n",
    "            \n",
    "        else:\n",
    "            print(sayı,\"Asal bir sayı değildir.\")\n",
    "    \n",
    "    "
   ]
  },
  {
   "cell_type": "markdown",
   "metadata": {},
   "source": [
    "### Bir Sayının Tam Bölenlerini Bulma"
   ]
  },
  {
   "cell_type": "code",
   "execution_count": null,
   "metadata": {},
   "outputs": [],
   "source": [
    "def tambolenleribulma(sayı):\n",
    "    tam_bolenler=[]   # bölen sayıları içine atmak için boş bir liste oluşturduk.\n",
    "    \n",
    "    for i in range(2,sayı):  # 2'den başlayarak girdiğimiz sayıya kadar gider.\n",
    "        if (sayı % i == 0 ):             # eğer i değerleri bu sayıyı tam bölerse\n",
    "            tam_bolenler.append(i)       # bölen değerleri listenin içine ekle.\n",
    "            \n",
    "    return tam_bolenler\n",
    "\n",
    "while True:\n",
    "    \n",
    "    print(\"Programdan çıkmak için q tuşuna basınız ...\")\n",
    "    sayı =input(\"Sayı:\")\n",
    "    \n",
    "    if (sayı == \"q\"):\n",
    "        print(\"Programdan çıkılıyor ...\")\n",
    "        break\n",
    "        \n",
    "    else:\n",
    "        sayı = int(sayı)\n",
    "        print(\"Tam Bölenler:\",tambolenleribulma(sayı))"
   ]
  },
  {
   "cell_type": "code",
   "execution_count": null,
   "metadata": {},
   "outputs": [],
   "source": []
  }
 ],
 "metadata": {
  "kernelspec": {
   "display_name": "Python 3",
   "language": "python",
   "name": "python3"
  },
  "language_info": {
   "codemirror_mode": {
    "name": "ipython",
    "version": 3
   },
   "file_extension": ".py",
   "mimetype": "text/x-python",
   "name": "python",
   "nbconvert_exporter": "python",
   "pygments_lexer": "ipython3",
   "version": "3.8.5"
  }
 },
 "nbformat": 4,
 "nbformat_minor": 4
}
