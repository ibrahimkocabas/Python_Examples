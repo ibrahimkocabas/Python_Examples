{
 "cells": [
  {
   "cell_type": "code",
   "execution_count": 24,
   "metadata": {},
   "outputs": [
    {
     "name": "stdout",
     "output_type": "stream",
     "text": [
      "***Harf Notu Hesaplama***\n",
      "\n"
     ]
    },
    {
     "name": "stdin",
     "output_type": "stream",
     "text": [
      "Notunuzu Giriniz:  65\n"
     ]
    },
    {
     "name": "stdout",
     "output_type": "stream",
     "text": [
      "DC\n"
     ]
    }
   ],
   "source": [
    "print(\"***Harf Notu Hesaplama***\\n\")\n",
    "\n",
    "note = float(input(\"Notunuzu Giriniz: \"))\n",
    "\n",
    "if(note >=90):\n",
    "    print(\"AA\")\n",
    "    \n",
    "elif(note>=85):\n",
    "    print(\"BA\")\n",
    "    \n",
    "elif(note>=80):\n",
    "     print(\"BB\")\n",
    "        \n",
    "elif(note>=75):\n",
    "    print(\"CB\")\n",
    "    \n",
    "elif(note>=70):\n",
    "    print(\"CC\")\n",
    "    \n",
    "elif(note>=65):\n",
    "     print(\"DC\")\n",
    "        \n",
    "elif(note>=60):\n",
    "    print(\"DD\")\n",
    "    \n",
    "else:\n",
    "    print(\"Dersten Başarısız Oldunuz.\")"
   ]
  },
  {
   "cell_type": "markdown",
   "metadata": {},
   "source": [
    "### Kodlama Egzersizi"
   ]
  },
  {
   "cell_type": "markdown",
   "metadata": {},
   "source": [
    "#### Hesap Makinesi"
   ]
  },
  {
   "cell_type": "code",
   "execution_count": 38,
   "metadata": {},
   "outputs": [
    {
     "name": "stdout",
     "output_type": "stream",
     "text": [
      "*****************\n",
      "Hesap Makinesi Programı\n",
      "\n",
      "İşlemler;\n",
      "1.Toplama İşlemi\n",
      "2.Çıkarma İşlemi\n",
      "3.Çarpma İşlmei\n",
      "4.Bölme İşlemi\n",
      "******************\n",
      "\n"
     ]
    },
    {
     "name": "stdin",
     "output_type": "stream",
     "text": [
      "1.Sayıyı Giriniz:  14\n",
      "2.Sayıyı Giriniz:  4\n",
      "İşlemi Giriniz:  4\n"
     ]
    },
    {
     "name": "stdout",
     "output_type": "stream",
     "text": [
      "14 ile 4 bölümü 3.5'dir\n"
     ]
    }
   ],
   "source": [
    "print(\"\"\"*****************\n",
    "Hesap Makinesi Programı\n",
    "\n",
    "İşlemler;\n",
    "1.Toplama İşlemi\n",
    "2.Çıkarma İşlemi\n",
    "3.Çarpma İşlmei\n",
    "4.Bölme İşlemi\n",
    "******************\n",
    "\"\"\")\n",
    "\n",
    "a = int(input(\"1.Sayıyı Giriniz: \"))\n",
    "b = int(input(\"2.Sayıyı Giriniz: \"))\n",
    "\n",
    "işlem = (input(\"İşlemi Giriniz: \"))\n",
    "\n",
    "if(işlem==\"1\"):\n",
    "    print(\"{} ile {} toplamı {}'dir\".format(a,b,a+b))\n",
    "    \n",
    "elif(işlem==\"2\"):\n",
    "    print(\"{} ile {} farkı {}'dir\".format(a,b,a-b))\n",
    "    \n",
    "if(işlem==\"3\"):\n",
    "    print(\"{} ile {} çarpımı {}'dir\".format(a,b,a*b)) \n",
    "    \n",
    "if(işlem==\"4\"):\n",
    "    print(\"{} ile {} bölümü {}'dir\".format(a,b,a/b))\n",
    "    \n",
    "else:\n",
    "    print(\"Geçersiz İşlem Girdiniz...!\")"
   ]
  },
  {
   "cell_type": "markdown",
   "metadata": {},
   "source": [
    "#### Kullanıcı Girişi"
   ]
  },
  {
   "cell_type": "code",
   "execution_count": 47,
   "metadata": {},
   "outputs": [
    {
     "name": "stdout",
     "output_type": "stream",
     "text": [
      "**********\n",
      "Kullanıcı Girişi\n",
      "**********\n",
      "\n"
     ]
    },
    {
     "name": "stdin",
     "output_type": "stream",
     "text": [
      "Kullanıcı Adını Giriniz: ibrahim\n",
      "Parolanızı Giriniz: 12345\n"
     ]
    },
    {
     "name": "stdout",
     "output_type": "stream",
     "text": [
      "Başarıyla Giriş Yaptınız...\n"
     ]
    }
   ],
   "source": [
    "print(\"**********\\nKullanıcı Girişi\\n**********\\n\")\n",
    "\n",
    "sys_kul_adı = \"ibrahim\" # Sistemde Kayıtlı Olduğunu Düşündüğümüz Kullanıcı Adı\n",
    "sys_parola  = \"12345\" # Sistemde Kayıtlı Olduğunu Düşündüğümüz Parola\n",
    "\n",
    "kullanıcı_adı = input(\"Kullanıcı Adını Giriniz:\") # Kullanıcı Adını input ile alıyoruz.\n",
    "parola =  input(\"Parolanızı Giriniz:\")\n",
    "\n",
    "if (kullanıcı_adı != sys_kul_adı and parola == sys_parola):\n",
    "    print(\"Kullanıcı Adı Hatalı...\")\n",
    "elif (kullanıcı_adı == sys_kul_adı and parola != sys_parola):\n",
    "    print(\"Parola Hatalı...\")\n",
    "\n",
    "elif (kullanıcı_adı != sys_kul_adı and parola != sys_parola):\n",
    "    print(\"Kullanıcı Adı ve Parola Hatalı...\")\n",
    "\n",
    "else:\n",
    "    print(\"Başarıyla Giriş Yaptınız...\")"
   ]
  },
  {
   "cell_type": "markdown",
   "metadata": {},
   "source": [
    "#### **Soru 1**"
   ]
  },
  {
   "cell_type": "markdown",
   "metadata": {},
   "source": [
    "Kullanıcıdan alınan boy ve kilo değerlerine göre beden kitle indeksini hesaplayın ve şu kurallara göre ekrana şu yazıları yazdırın.\n",
    "\n",
    " Beden Kitle İndeksi: Kilo / Boy(m) *  Boy(m)\n",
    "\n",
    " BKİ 18.5'un altındaysa -------> Zayıf\n",
    "\n",
    " BKİ 18.5 ile 25 arasındaysa ------> Normal\n",
    "\n",
    " BKİ 25 ile 30 arasındaysa --------> Fazla Kilolu\n",
    "\n",
    " BKİ 30'un üstündeyse -------------> Obez"
   ]
  },
  {
   "cell_type": "code",
   "execution_count": 52,
   "metadata": {},
   "outputs": [
    {
     "name": "stdout",
     "output_type": "stream",
     "text": [
      "******************************\n",
      "Beden Kitle Endeksi Hesaplama\n",
      "******************************\n",
      "\n"
     ]
    },
    {
     "name": "stdin",
     "output_type": "stream",
     "text": [
      "Boyunuzu Giriniz: 1.90\n",
      "Kilonuzu Giriniz : 77\n"
     ]
    },
    {
     "name": "stdout",
     "output_type": "stream",
     "text": [
      "Normal\n"
     ]
    }
   ],
   "source": [
    "print(\"\"\"******************************\n",
    "Beden Kitle Endeksi Hesaplama\n",
    "******************************\\n\"\"\"\n",
    ")\n",
    "\n",
    "boy = float(input(\"Boyunuzu Giriniz:\"))\n",
    "kilo = int(input(\"Kilonuzu Giriniz :\"))\n",
    "\n",
    "bki = kilo / boy**2\n",
    "\n",
    "if(bki < 18.5):\n",
    "    print(\"Zayıf\")   \n",
    "elif (bki >= 18.5 and bki < 25):\n",
    "    print(\"Normal\")\n",
    "elif (bki >= 25 and bki < 30):\n",
    "    print(\"Fazla Kilolu\")\n",
    "else:\n",
    "    print(\"Obez\")"
   ]
  },
  {
   "cell_type": "markdown",
   "metadata": {},
   "source": [
    "#### **Soru 2**"
   ]
  },
  {
   "cell_type": "markdown",
   "metadata": {},
   "source": [
    "Kullanıcının girdiği vize1,vize2,final notlarına notlarına göre harf notunu hesaplayın.\n",
    "\n",
    "    Vize1 toplam notun %30'una etki edecek.\n",
    "\n",
    "    Vize2 toplam notun %30'una etki edecek.\n",
    "\n",
    "    Final toplam notun %40'ına etki edecek."
   ]
  },
  {
   "cell_type": "code",
   "execution_count": 55,
   "metadata": {},
   "outputs": [
    {
     "name": "stdin",
     "output_type": "stream",
     "text": [
      "Vize1: 78\n",
      "Vize2: 34\n",
      "Final: 90\n"
     ]
    },
    {
     "name": "stdout",
     "output_type": "stream",
     "text": [
      "DC\n"
     ]
    }
   ],
   "source": [
    "vize1 = int(input(\"Vize1:\"))\n",
    "vize2 = int(input(\"Vize2:\"))\n",
    "final = int(input(\"Final:\"))\n",
    "\n",
    "\n",
    "genel_not =  vize1 * 3/10 + vize2 * 3/10 + final * 4/10\n",
    "\n",
    "if (genel_not >= 90):\n",
    "    print(\"AA\")\n",
    "elif (genel_not >= 85):\n",
    "    print(\"BA\")\n",
    "elif (genel_not >= 80):\n",
    "    print(\"BB\")\n",
    "elif (genel_not >= 75):\n",
    "    print(\"CB\")\n",
    "elif (genel_not >= 70):\n",
    "    print(\"CC\")\n",
    "elif (genel_not >= 65):\n",
    "    print(\"DC\")\n",
    "elif (genel_not >= 60):\n",
    "    print(\"DD\")\n",
    "elif (genel_not >= 55):\n",
    "    print(\"FD\")\n",
    "else:\n",
    "    print(\"FF\")    "
   ]
  },
  {
   "cell_type": "code",
   "execution_count": null,
   "metadata": {},
   "outputs": [],
   "source": []
  }
 ],
 "metadata": {
  "kernelspec": {
   "display_name": "Python 3",
   "language": "python",
   "name": "python3"
  },
  "language_info": {
   "codemirror_mode": {
    "name": "ipython",
    "version": 3
   },
   "file_extension": ".py",
   "mimetype": "text/x-python",
   "name": "python",
   "nbconvert_exporter": "python",
   "pygments_lexer": "ipython3",
   "version": "3.8.5"
  }
 },
 "nbformat": 4,
 "nbformat_minor": 4
}
