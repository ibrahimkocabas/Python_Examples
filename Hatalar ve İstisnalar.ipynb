{
 "cells": [
  {
   "cell_type": "markdown",
   "metadata": {},
   "source": [
    "Hata çıkarabilecek olan kodlarımızı biz önceden öngörerek hatanın türüne göre bunları yakalayıp programlarımızı daha güvenli bir şekilde ortaya çıkmış olur."
   ]
  },
  {
   "cell_type": "code",
   "execution_count": 2,
   "metadata": {},
   "outputs": [
    {
     "ename": "NameError",
     "evalue": "name 'ibrahim' is not defined",
     "output_type": "error",
     "traceback": [
      "\u001b[1;31m---------------------------------------------------------------------------\u001b[0m",
      "\u001b[1;31mNameError\u001b[0m                                 Traceback (most recent call last)",
      "\u001b[1;32m<ipython-input-2-dbd21717b856>\u001b[0m in \u001b[0;36m<module>\u001b[1;34m\u001b[0m\n\u001b[1;32m----> 1\u001b[1;33m \u001b[0mprint\u001b[0m\u001b[1;33m(\u001b[0m\u001b[0mibrahim\u001b[0m\u001b[1;33m)\u001b[0m   \u001b[1;31m# Tanımlı değil-Name Error Hatası\u001b[0m\u001b[1;33m\u001b[0m\u001b[1;33m\u001b[0m\u001b[0m\n\u001b[0m",
      "\u001b[1;31mNameError\u001b[0m: name 'ibrahim' is not defined"
     ]
    }
   ],
   "source": [
    "print(ibrahim)   # Tanımlı değil-Name Error Hatası"
   ]
  },
  {
   "cell_type": "code",
   "execution_count": 3,
   "metadata": {},
   "outputs": [
    {
     "ename": "ValueError",
     "evalue": "invalid literal for int() with base 10: 'asdgs3456'",
     "output_type": "error",
     "traceback": [
      "\u001b[1;31m---------------------------------------------------------------------------\u001b[0m",
      "\u001b[1;31mValueError\u001b[0m                                Traceback (most recent call last)",
      "\u001b[1;32m<ipython-input-3-865d4bbfa813>\u001b[0m in \u001b[0;36m<module>\u001b[1;34m\u001b[0m\n\u001b[1;32m----> 1\u001b[1;33m \u001b[0mint\u001b[0m\u001b[1;33m(\u001b[0m\u001b[1;34m\"asdgs3456\"\u001b[0m\u001b[1;33m)\u001b[0m\u001b[1;33m\u001b[0m\u001b[1;33m\u001b[0m\u001b[0m\n\u001b[0m",
      "\u001b[1;31mValueError\u001b[0m: invalid literal for int() with base 10: 'asdgs3456'"
     ]
    }
   ],
   "source": [
    "int(\"asdgs3456\")  # Value Error Hatası"
   ]
  },
  {
   "cell_type": "code",
   "execution_count": 5,
   "metadata": {},
   "outputs": [
    {
     "ename": "ZeroDivisionError",
     "evalue": "division by zero",
     "output_type": "error",
     "traceback": [
      "\u001b[1;31m---------------------------------------------------------------------------\u001b[0m",
      "\u001b[1;31mZeroDivisionError\u001b[0m                         Traceback (most recent call last)",
      "\u001b[1;32m<ipython-input-5-56114d12031b>\u001b[0m in \u001b[0;36m<module>\u001b[1;34m\u001b[0m\n\u001b[1;32m----> 1\u001b[1;33m \u001b[1;36m5\u001b[0m\u001b[1;33m/\u001b[0m\u001b[1;36m0\u001b[0m   \u001b[1;31m# Division by zero --- Bir sayı 0'a bölünemez\u001b[0m\u001b[1;33m\u001b[0m\u001b[1;33m\u001b[0m\u001b[0m\n\u001b[0m",
      "\u001b[1;31mZeroDivisionError\u001b[0m: division by zero"
     ]
    }
   ],
   "source": [
    "5/0   # Division by zero --- Bir sayı 0'a bölünemez"
   ]
  },
  {
   "cell_type": "code",
   "execution_count": 6,
   "metadata": {},
   "outputs": [],
   "source": [
    "# try,except blokları"
   ]
  },
  {
   "cell_type": "code",
   "execution_count": 7,
   "metadata": {},
   "outputs": [
    {
     "ename": "ValueError",
     "evalue": "invalid literal for int() with base 10: 'sadafsdfsg1234354'",
     "output_type": "error",
     "traceback": [
      "\u001b[1;31m---------------------------------------------------------------------------\u001b[0m",
      "\u001b[1;31mValueError\u001b[0m                                Traceback (most recent call last)",
      "\u001b[1;32m<ipython-input-7-87668637c5b9>\u001b[0m in \u001b[0;36m<module>\u001b[1;34m\u001b[0m\n\u001b[1;32m----> 1\u001b[1;33m \u001b[0ma\u001b[0m \u001b[1;33m=\u001b[0m \u001b[0mint\u001b[0m\u001b[1;33m(\u001b[0m\u001b[1;34m\"sadafsdfsg1234354\"\u001b[0m\u001b[1;33m)\u001b[0m\u001b[1;33m\u001b[0m\u001b[1;33m\u001b[0m\u001b[0m\n\u001b[0m",
      "\u001b[1;31mValueError\u001b[0m: invalid literal for int() with base 10: 'sadafsdfsg1234354'"
     ]
    }
   ],
   "source": [
    "a = int(\"sadafsdfsg1234354\")"
   ]
  },
  {
   "cell_type": "code",
   "execution_count": 9,
   "metadata": {},
   "outputs": [
    {
     "name": "stdout",
     "output_type": "stream",
     "text": [
      "Bir hata oluştu ..!\n",
      "Bloklar sona erdi ...\n"
     ]
    }
   ],
   "source": [
    "try:\n",
    "    a = int(\"sadafsdfsg1234354\")\n",
    "    print(\"program\")\n",
    "    \n",
    "except:\n",
    "    print(\"Bir hata oluştu ..!\")\n",
    "    \n",
    "print(\"Bloklar sona erdi ...\")    "
   ]
  },
  {
   "cell_type": "markdown",
   "metadata": {},
   "source": [
    "Yukarıda ki kod bloğunda hata oluşturabilecek kodumuzu **try** içerisine yazdıktan sonra **except** bloğuna gelerek bir hata var ise bu kısımdaki kodları çalıştıracaktır."
   ]
  },
  {
   "cell_type": "code",
   "execution_count": 10,
   "metadata": {},
   "outputs": [
    {
     "name": "stdout",
     "output_type": "stream",
     "text": [
      "program\n",
      "Bloklar sona erdi ...\n"
     ]
    }
   ],
   "source": [
    "try:\n",
    "    a = int(\"12345\")\n",
    "    print(\"program\")\n",
    "    \n",
    "except:\n",
    "    print(\"Bir hata oluştu ..!\")\n",
    "    \n",
    "print(\"Bloklar sona erdi ...\")"
   ]
  },
  {
   "cell_type": "markdown",
   "metadata": {},
   "source": [
    "Bu kısımda ise a değişkeni içindeki değerlerin hepsi sayı olduğundan dolayı hata vermedi ve kendi print işlemi çalıştıktan sonra except bloğuna girmedi ve en sonda blok dışındaki print işlemini de yaparak çıktı verdi."
   ]
  },
  {
   "cell_type": "markdown",
   "metadata": {},
   "source": [
    "Except bloğuna özel olarak da hata girebiliriz.Try bloğu içerisinde hangi hata türü var ise except bloğuna ona göre girer. Diğer durumlarda ise except bloğuna girmez."
   ]
  },
  {
   "cell_type": "code",
   "execution_count": 13,
   "metadata": {},
   "outputs": [
    {
     "name": "stdout",
     "output_type": "stream",
     "text": [
      "Bir hata oluştu ..!\n",
      "Bloklar sona erdi ...\n"
     ]
    }
   ],
   "source": [
    "try:\n",
    "    a = int(\"asdaasdgdfh2345\")\n",
    "    print(\"program\")\n",
    "    \n",
    "except ValueError:\n",
    "    print(\"Bir hata oluştu ..!\")\n",
    "    \n",
    "print(\"Bloklar sona erdi ...\")"
   ]
  },
  {
   "cell_type": "code",
   "execution_count": 14,
   "metadata": {},
   "outputs": [],
   "source": [
    "# iki hata çıkarabilecek kod örneği"
   ]
  },
  {
   "cell_type": "code",
   "execution_count": 19,
   "metadata": {},
   "outputs": [
    {
     "ename": "ValueError",
     "evalue": "invalid literal for int() with base 10: 'asdas1234'",
     "output_type": "error",
     "traceback": [
      "\u001b[1;31m---------------------------------------------------------------------------\u001b[0m",
      "\u001b[1;31mValueError\u001b[0m                                Traceback (most recent call last)",
      "\u001b[1;32m<ipython-input-19-59638e4839fd>\u001b[0m in \u001b[0;36m<module>\u001b[1;34m\u001b[0m\n\u001b[1;32m----> 1\u001b[1;33m \u001b[0ma\u001b[0m \u001b[1;33m=\u001b[0m \u001b[0mint\u001b[0m\u001b[1;33m(\u001b[0m\u001b[1;34m\"asdas1234\"\u001b[0m\u001b[1;33m)\u001b[0m\u001b[1;33m\u001b[0m\u001b[1;33m\u001b[0m\u001b[0m\n\u001b[0m",
      "\u001b[1;31mValueError\u001b[0m: invalid literal for int() with base 10: 'asdas1234'"
     ]
    }
   ],
   "source": [
    "a = int(\"asdas1234\")"
   ]
  },
  {
   "cell_type": "code",
   "execution_count": 20,
   "metadata": {},
   "outputs": [
    {
     "ename": "ZeroDivisionError",
     "evalue": "division by zero",
     "output_type": "error",
     "traceback": [
      "\u001b[1;31m---------------------------------------------------------------------------\u001b[0m",
      "\u001b[1;31mZeroDivisionError\u001b[0m                         Traceback (most recent call last)",
      "\u001b[1;32m<ipython-input-20-d2c0889640ff>\u001b[0m in \u001b[0;36m<module>\u001b[1;34m\u001b[0m\n\u001b[1;32m----> 1\u001b[1;33m \u001b[0mprint\u001b[0m\u001b[1;33m(\u001b[0m\u001b[1;36m2\u001b[0m\u001b[1;33m/\u001b[0m\u001b[1;36m0\u001b[0m\u001b[1;33m)\u001b[0m\u001b[1;33m\u001b[0m\u001b[1;33m\u001b[0m\u001b[0m\n\u001b[0m",
      "\u001b[1;31mZeroDivisionError\u001b[0m: division by zero"
     ]
    }
   ],
   "source": [
    "print(2/0)"
   ]
  },
  {
   "cell_type": "code",
   "execution_count": 23,
   "metadata": {},
   "outputs": [
    {
     "name": "stdin",
     "output_type": "stream",
     "text": [
      "Sayı1:  5\n",
      "Sayı2:  as2\n"
     ]
    },
    {
     "name": "stdout",
     "output_type": "stream",
     "text": [
      "Lütfen inputu doğru olarak giriniz...\n"
     ]
    }
   ],
   "source": [
    "try:\n",
    "    a = int(input(\"Sayı1: \"))\n",
    "    b = int(input(\"Sayı2: \"))\n",
    "    print(a/b)\n",
    "    \n",
    "except ValueError:\n",
    "    print(\"Lütfen inputu doğru olarak giriniz...\")\n",
    "except ZeroDivisionError:\n",
    "    print(\"Bir sayı 0'a bölünemez ...\")"
   ]
  },
  {
   "cell_type": "code",
   "execution_count": 24,
   "metadata": {},
   "outputs": [],
   "source": [
    "# try,except ve finally"
   ]
  },
  {
   "cell_type": "markdown",
   "metadata": {},
   "source": [
    "Bir kodun mutlaka çalışmasını istiyorsak eğer **finally** blokları içerisine yazarız."
   ]
  },
  {
   "cell_type": "code",
   "execution_count": 25,
   "metadata": {},
   "outputs": [
    {
     "name": "stdin",
     "output_type": "stream",
     "text": [
      "Sayı1:  12\n",
      "Sayı2:  4\n"
     ]
    },
    {
     "name": "stdout",
     "output_type": "stream",
     "text": [
      "3.0\n",
      "Bu kısım çalıştı..\n"
     ]
    }
   ],
   "source": [
    "try:\n",
    "    a = int(input(\"Sayı1: \"))\n",
    "    b = int(input(\"Sayı2: \"))\n",
    "    print(a/b)\n",
    "    \n",
    "except ValueError:\n",
    "    print(\"Lütfen inputu doğru olarak giriniz...\")\n",
    "except ZeroDivisionError:\n",
    "    print(\"Bir sayı 0'a bölünemez ...\")\n",
    "    \n",
    "finally:\n",
    "    print(\"Bu kısım çalıştı..\")"
   ]
  },
  {
   "cell_type": "code",
   "execution_count": 26,
   "metadata": {},
   "outputs": [
    {
     "name": "stdin",
     "output_type": "stream",
     "text": [
      "Sayı1:  4\n",
      "Sayı2:  asd3\n"
     ]
    },
    {
     "name": "stdout",
     "output_type": "stream",
     "text": [
      "Lütfen inputu doğru olarak giriniz...\n",
      "Bu kısım çalıştı..\n"
     ]
    }
   ],
   "source": [
    "try:\n",
    "    a = int(input(\"Sayı1: \"))\n",
    "    b = int(input(\"Sayı2: \"))\n",
    "    print(a/b)\n",
    "    \n",
    "except ValueError:\n",
    "    print(\"Lütfen inputu doğru olarak giriniz...\")\n",
    "except ZeroDivisionError:\n",
    "    print(\"Bir sayı 0'a bölünemez ...\")\n",
    "    \n",
    "finally:\n",
    "    print(\"Bu kısım çalıştı..\")"
   ]
  },
  {
   "cell_type": "markdown",
   "metadata": {},
   "source": [
    "Yanlış input girdiğimizden dolayı bir hata uyarısı aldık fakat **finally** bloğumuz gene çalıştı."
   ]
  },
  {
   "cell_type": "code",
   "execution_count": 28,
   "metadata": {},
   "outputs": [],
   "source": [
    "# Hata Fırlatmak -- raise"
   ]
  },
  {
   "cell_type": "code",
   "execution_count": 33,
   "metadata": {},
   "outputs": [],
   "source": [
    "def terscevir(s):\n",
    "    if(type(s) != str):\n",
    "        raise ValueError(\"Lütfen string bir değer gönderiniz ...\")\n",
    "     \n",
    "    else:\n",
    "        return s[::-1]     "
   ]
  },
  {
   "cell_type": "code",
   "execution_count": 35,
   "metadata": {},
   "outputs": [
    {
     "data": {
      "text/plain": [
       "'nohtyP'"
      ]
     },
     "execution_count": 35,
     "metadata": {},
     "output_type": "execute_result"
    }
   ],
   "source": [
    "terscevir(\"Python\")"
   ]
  },
  {
   "cell_type": "markdown",
   "metadata": {},
   "source": [
    "Yukarıda ki gönderdiğimiz ifade tamamen string olduğundan dolayı bir hata ile karşılaşmadık."
   ]
  },
  {
   "cell_type": "code",
   "execution_count": 36,
   "metadata": {},
   "outputs": [],
   "source": [
    "def terscevir(s):\n",
    "    if(type(s) != str):\n",
    "        raise ValueError(\"Lütfen string bir değer gönderiniz ...\")\n",
    "     \n",
    "    else:\n",
    "        return s[::-1]    "
   ]
  },
  {
   "cell_type": "code",
   "execution_count": 38,
   "metadata": {},
   "outputs": [
    {
     "ename": "ValueError",
     "evalue": "Lütfen string bir değer gönderiniz ...",
     "output_type": "error",
     "traceback": [
      "\u001b[1;31m---------------------------------------------------------------------------\u001b[0m",
      "\u001b[1;31mValueError\u001b[0m                                Traceback (most recent call last)",
      "\u001b[1;32m<ipython-input-38-811d8f3197d6>\u001b[0m in \u001b[0;36m<module>\u001b[1;34m\u001b[0m\n\u001b[1;32m----> 1\u001b[1;33m \u001b[0mterscevir\u001b[0m\u001b[1;33m(\u001b[0m\u001b[1;36m12\u001b[0m\u001b[1;33m)\u001b[0m\u001b[1;33m\u001b[0m\u001b[1;33m\u001b[0m\u001b[0m\n\u001b[0m",
      "\u001b[1;32m<ipython-input-36-a8f1ee20ad50>\u001b[0m in \u001b[0;36mterscevir\u001b[1;34m(s)\u001b[0m\n\u001b[0;32m      1\u001b[0m \u001b[1;32mdef\u001b[0m \u001b[0mterscevir\u001b[0m\u001b[1;33m(\u001b[0m\u001b[0ms\u001b[0m\u001b[1;33m)\u001b[0m\u001b[1;33m:\u001b[0m\u001b[1;33m\u001b[0m\u001b[1;33m\u001b[0m\u001b[0m\n\u001b[0;32m      2\u001b[0m     \u001b[1;32mif\u001b[0m\u001b[1;33m(\u001b[0m\u001b[0mtype\u001b[0m\u001b[1;33m(\u001b[0m\u001b[0ms\u001b[0m\u001b[1;33m)\u001b[0m \u001b[1;33m!=\u001b[0m \u001b[0mstr\u001b[0m\u001b[1;33m)\u001b[0m\u001b[1;33m:\u001b[0m\u001b[1;33m\u001b[0m\u001b[1;33m\u001b[0m\u001b[0m\n\u001b[1;32m----> 3\u001b[1;33m         \u001b[1;32mraise\u001b[0m \u001b[0mValueError\u001b[0m\u001b[1;33m(\u001b[0m\u001b[1;34m\"Lütfen string bir değer gönderiniz ...\"\u001b[0m\u001b[1;33m)\u001b[0m\u001b[1;33m\u001b[0m\u001b[1;33m\u001b[0m\u001b[0m\n\u001b[0m\u001b[0;32m      4\u001b[0m \u001b[1;33m\u001b[0m\u001b[0m\n\u001b[0;32m      5\u001b[0m     \u001b[1;32melse\u001b[0m\u001b[1;33m:\u001b[0m\u001b[1;33m\u001b[0m\u001b[1;33m\u001b[0m\u001b[0m\n",
      "\u001b[1;31mValueError\u001b[0m: Lütfen string bir değer gönderiniz ..."
     ]
    }
   ],
   "source": [
    "terscevir(12)"
   ]
  },
  {
   "cell_type": "code",
   "execution_count": null,
   "metadata": {},
   "outputs": [],
   "source": []
  },
  {
   "cell_type": "markdown",
   "metadata": {},
   "source": [
    "#### Soru1"
   ]
  },
  {
   "cell_type": "markdown",
   "metadata": {},
   "source": [
    "Elinizde stringlerin bulunduğu bir liste bulunduğunu düşünün.\n",
    "\n",
    "liste = [\"345\",\"sadas\",\"324a\",\"14\",\"kemal\"]\n",
    "\n",
    "Bu listenin içindeki stringlerden içinde sadece rakam bulunanları ekrana yazdırın. Bunu yaparken try,except bloklarını kullanmayı unutmayın."
   ]
  },
  {
   "cell_type": "code",
   "execution_count": 39,
   "metadata": {},
   "outputs": [
    {
     "name": "stdout",
     "output_type": "stream",
     "text": [
      "345\n",
      "14\n"
     ]
    }
   ],
   "source": [
    "liste = [\"345\",\"sadas\",\"324a\",\"14\",\"kemal\"]\n",
    "\n",
    "for eleman in liste:\n",
    "    \n",
    "    try: \n",
    "        eleman = int(eleman) # Eğer hata ile karşılaşırsak burası hata verecek ve print çalışmayacak.\n",
    "        print(eleman)\n",
    "    except:\n",
    "        pass # pass deyimi bir blokun hiçbir şey yapmadığı anlamına geliyor. Python'ın hata vermemesi için kullanabilirsiniz."
   ]
  },
  {
   "cell_type": "markdown",
   "metadata": {},
   "source": [
    "#### Soru 2"
   ]
  },
  {
   "cell_type": "markdown",
   "metadata": {},
   "source": [
    "Bir sayının çift olup olmadığını sorgulayan bir fonksiyon yazın. Bu fonksiyon, eğer sayı çift ise return ile bu değeri dönsün. Ancak sayı tek sayı ise fonksiyon raise ile ValueError hatası fırlatsın. Daha sonra, içinde çift ve tek sayılar bulunduran bir liste tanımlayın ve liste üzerinde gezinerek ekrana sadece çift sayıları bastırın."
   ]
  },
  {
   "cell_type": "code",
   "execution_count": 41,
   "metadata": {},
   "outputs": [
    {
     "name": "stdout",
     "output_type": "stream",
     "text": [
      "34\n",
      "28\n",
      "100\n",
      "222\n"
     ]
    }
   ],
   "source": [
    "def çift_mi(sayı):\n",
    "    \n",
    "    if (sayı % 2 == 0):\n",
    "        return sayı\n",
    "    else:\n",
    "        raise ValueError\n",
    "        \n",
    "liste = [34,17,28,3,33,100,61,222]\n",
    "\n",
    "for i in liste:\n",
    "    try:\n",
    "        print(çift_mi(i))\n",
    "    except ValueError:\n",
    "        pass"
   ]
  },
  {
   "cell_type": "code",
   "execution_count": null,
   "metadata": {},
   "outputs": [],
   "source": []
  }
 ],
 "metadata": {
  "kernelspec": {
   "display_name": "Python 3",
   "language": "python",
   "name": "python3"
  },
  "language_info": {
   "codemirror_mode": {
    "name": "ipython",
    "version": 3
   },
   "file_extension": ".py",
   "mimetype": "text/x-python",
   "name": "python",
   "nbconvert_exporter": "python",
   "pygments_lexer": "ipython3",
   "version": "3.8.5"
  }
 },
 "nbformat": 4,
 "nbformat_minor": 4
}
