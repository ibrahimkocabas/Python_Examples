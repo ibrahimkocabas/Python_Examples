{
 "cells": [
  {
   "cell_type": "markdown",
   "metadata": {},
   "source": [
    "#### Kodlama Egzersizi"
   ]
  },
  {
   "cell_type": "code",
   "execution_count": 1,
   "metadata": {},
   "outputs": [],
   "source": [
    "# Kullanıcı Girişi"
   ]
  },
  {
   "cell_type": "code",
   "execution_count": 14,
   "metadata": {
    "collapsed": true,
    "jupyter": {
     "outputs_hidden": true
    }
   },
   "outputs": [
    {
     "name": "stdout",
     "output_type": "stream",
     "text": [
      "\n",
      "**************************** \n",
      "Kullanıcı Girişi Programı\n",
      "****************************\n",
      "\n"
     ]
    },
    {
     "name": "stdin",
     "output_type": "stream",
     "text": [
      "Kullanıcı Adı: ibrahim\n",
      "Parola: 1234\n"
     ]
    },
    {
     "name": "stdout",
     "output_type": "stream",
     "text": [
      "Hatalı Parola ...\n"
     ]
    },
    {
     "name": "stdin",
     "output_type": "stream",
     "text": [
      "Kullanıcı Adı: ibrahi\n",
      "Parola: 12345\n"
     ]
    },
    {
     "name": "stdout",
     "output_type": "stream",
     "text": [
      "Hatalı Kullanıcı Adı ...\n"
     ]
    },
    {
     "name": "stdin",
     "output_type": "stream",
     "text": [
      "Kullanıcı Adı: ibrahim\n",
      "Parola: 12345\n"
     ]
    },
    {
     "name": "stdout",
     "output_type": "stream",
     "text": [
      "Sisteme Başarı ile Giriş Yapıldı...\n"
     ]
    }
   ],
   "source": [
    "print(\"\"\"\n",
    "**************************** \n",
    "Kullanıcı Girişi Programı\n",
    "****************************\n",
    "\"\"\")\n",
    "\n",
    "sys_kullanıcı_adı = \"ibrahim\"\n",
    "sys_parola = \"12345\"\n",
    "giris_hakkı = 3\n",
    "\n",
    "while True:\n",
    "    kullanıcı_adı = input(\"Kullanıcı Adı:\")\n",
    "    parola = input(\"Parola:\")\n",
    "    \n",
    "    if(kullanıcı_adı != sys_kullanıcı_adı and parola == sys_parola):\n",
    "        print(\"Hatalı Kullanıcı Adı ...\")\n",
    "        giris_hakkı -=1\n",
    "        \n",
    "    elif(kullanıcı_adı == sys_kullanıcı_adı and parola != sys_parola):\n",
    "        print(\"Hatalı Parola ...\")\n",
    "        giris_hakkı -=1\n",
    "        \n",
    "    elif(kullanıcı_adı != sys_kullanıcı_adı and parola != sys_parola):\n",
    "        print(\"Hatalı Kullanıcı Adı ve Parola ...\")\n",
    "        giris_hakkı -=1\n",
    "        \n",
    "    else:\n",
    "        print(\"Sisteme Başarı ile Giriş Yapıldı...\")\n",
    "        break\n",
    "        \n",
    "    if(giris_hakkı == 0):\n",
    "        print(\"Giriş Hakkınız Bitti...\")\n",
    "        break"
   ]
  },
  {
   "cell_type": "code",
   "execution_count": 15,
   "metadata": {},
   "outputs": [],
   "source": [
    "# ATM Programı"
   ]
  },
  {
   "cell_type": "code",
   "execution_count": 23,
   "metadata": {
    "collapsed": true,
    "jupyter": {
     "outputs_hidden": true
    }
   },
   "outputs": [
    {
     "name": "stdout",
     "output_type": "stream",
     "text": [
      "\n",
      "*****************************\n",
      "ATM Makinesi\n",
      "\n",
      "İşlemler;\n",
      "1.Bakiye Sorgulama\n",
      "2.Para Yatırma\n",
      "3.Para Çekme\n",
      "\n",
      "Programdan çıkmak için 'q' ya basınız.\n",
      "*****************************\n",
      "\n"
     ]
    },
    {
     "name": "stdin",
     "output_type": "stream",
     "text": [
      "Yapmak istediğiniz işlemi seçiniz:  1\n"
     ]
    },
    {
     "name": "stdout",
     "output_type": "stream",
     "text": [
      "Bakiye 1000 TL\n"
     ]
    },
    {
     "name": "stdin",
     "output_type": "stream",
     "text": [
      "Yapmak istediğiniz işlemi seçiniz:  2\n",
      "Yatırılacak Para Miktarı Giriniz: 500\n",
      "Yapmak istediğiniz işlemi seçiniz:  1\n"
     ]
    },
    {
     "name": "stdout",
     "output_type": "stream",
     "text": [
      "Bakiye 1500 TL\n"
     ]
    },
    {
     "name": "stdin",
     "output_type": "stream",
     "text": [
      "Yapmak istediğiniz işlemi seçiniz:  3\n",
      "Çekilecek Para Miktarını Giriniz: 250\n",
      "Yapmak istediğiniz işlemi seçiniz:  1\n"
     ]
    },
    {
     "name": "stdout",
     "output_type": "stream",
     "text": [
      "Bakiye 1250 TL\n"
     ]
    },
    {
     "name": "stdin",
     "output_type": "stream",
     "text": [
      "Yapmak istediğiniz işlemi seçiniz:  3\n",
      "Çekilecek Para Miktarını Giriniz: 2000\n"
     ]
    },
    {
     "name": "stdout",
     "output_type": "stream",
     "text": [
      "Bakiye Yetersiz\n"
     ]
    },
    {
     "name": "stdin",
     "output_type": "stream",
     "text": [
      "Yapmak istediğiniz işlemi seçiniz:  1\n"
     ]
    },
    {
     "name": "stdout",
     "output_type": "stream",
     "text": [
      "Bakiye 1250 TL\n"
     ]
    },
    {
     "name": "stdin",
     "output_type": "stream",
     "text": [
      "Yapmak istediğiniz işlemi seçiniz:  2\n",
      "Yatırılacak Para Miktarı Giriniz: 250\n",
      "Yapmak istediğiniz işlemi seçiniz:  1\n"
     ]
    },
    {
     "name": "stdout",
     "output_type": "stream",
     "text": [
      "Bakiye 1500 TL\n"
     ]
    },
    {
     "ename": "KeyboardInterrupt",
     "evalue": "Interrupted by user",
     "output_type": "error",
     "traceback": [
      "\u001b[1;31m---------------------------------------------------------------------------\u001b[0m",
      "\u001b[1;31mKeyboardInterrupt\u001b[0m                         Traceback (most recent call last)",
      "\u001b[1;32m<ipython-input-23-4b80cd8afe35>\u001b[0m in \u001b[0;36m<module>\u001b[1;34m\u001b[0m\n\u001b[0;32m     16\u001b[0m \u001b[1;32mwhile\u001b[0m \u001b[1;32mTrue\u001b[0m\u001b[1;33m:\u001b[0m \u001b[1;31m#Sürekli bir döngü\u001b[0m\u001b[1;33m\u001b[0m\u001b[1;33m\u001b[0m\u001b[0m\n\u001b[0;32m     17\u001b[0m \u001b[1;33m\u001b[0m\u001b[0m\n\u001b[1;32m---> 18\u001b[1;33m     \u001b[0mişlem\u001b[0m \u001b[1;33m=\u001b[0m \u001b[0minput\u001b[0m\u001b[1;33m(\u001b[0m\u001b[1;34m\"Yapmak istediğiniz işlemi seçiniz: \"\u001b[0m\u001b[1;33m)\u001b[0m\u001b[1;33m\u001b[0m\u001b[1;33m\u001b[0m\u001b[0m\n\u001b[0m\u001b[0;32m     19\u001b[0m \u001b[1;33m\u001b[0m\u001b[0m\n\u001b[0;32m     20\u001b[0m     \u001b[1;32mif\u001b[0m\u001b[1;33m(\u001b[0m\u001b[0mişlem\u001b[0m \u001b[1;33m==\u001b[0m \u001b[1;34m\"q\"\u001b[0m\u001b[1;33m)\u001b[0m\u001b[1;33m:\u001b[0m\u001b[1;33m\u001b[0m\u001b[1;33m\u001b[0m\u001b[0m\n",
      "\u001b[1;32m~\\anaconda3\\lib\\site-packages\\ipykernel\\kernelbase.py\u001b[0m in \u001b[0;36mraw_input\u001b[1;34m(self, prompt)\u001b[0m\n\u001b[0;32m    858\u001b[0m                 \u001b[1;34m\"raw_input was called, but this frontend does not support input requests.\"\u001b[0m\u001b[1;33m\u001b[0m\u001b[1;33m\u001b[0m\u001b[0m\n\u001b[0;32m    859\u001b[0m             )\n\u001b[1;32m--> 860\u001b[1;33m         return self._input_request(str(prompt),\n\u001b[0m\u001b[0;32m    861\u001b[0m             \u001b[0mself\u001b[0m\u001b[1;33m.\u001b[0m\u001b[0m_parent_ident\u001b[0m\u001b[1;33m,\u001b[0m\u001b[1;33m\u001b[0m\u001b[1;33m\u001b[0m\u001b[0m\n\u001b[0;32m    862\u001b[0m             \u001b[0mself\u001b[0m\u001b[1;33m.\u001b[0m\u001b[0m_parent_header\u001b[0m\u001b[1;33m,\u001b[0m\u001b[1;33m\u001b[0m\u001b[1;33m\u001b[0m\u001b[0m\n",
      "\u001b[1;32m~\\anaconda3\\lib\\site-packages\\ipykernel\\kernelbase.py\u001b[0m in \u001b[0;36m_input_request\u001b[1;34m(self, prompt, ident, parent, password)\u001b[0m\n\u001b[0;32m    902\u001b[0m             \u001b[1;32mexcept\u001b[0m \u001b[0mKeyboardInterrupt\u001b[0m\u001b[1;33m:\u001b[0m\u001b[1;33m\u001b[0m\u001b[1;33m\u001b[0m\u001b[0m\n\u001b[0;32m    903\u001b[0m                 \u001b[1;31m# re-raise KeyboardInterrupt, to truncate traceback\u001b[0m\u001b[1;33m\u001b[0m\u001b[1;33m\u001b[0m\u001b[1;33m\u001b[0m\u001b[0m\n\u001b[1;32m--> 904\u001b[1;33m                 \u001b[1;32mraise\u001b[0m \u001b[0mKeyboardInterrupt\u001b[0m\u001b[1;33m(\u001b[0m\u001b[1;34m\"Interrupted by user\"\u001b[0m\u001b[1;33m)\u001b[0m \u001b[1;32mfrom\u001b[0m \u001b[1;32mNone\u001b[0m\u001b[1;33m\u001b[0m\u001b[1;33m\u001b[0m\u001b[0m\n\u001b[0m\u001b[0;32m    905\u001b[0m             \u001b[1;32mexcept\u001b[0m \u001b[0mException\u001b[0m \u001b[1;32mas\u001b[0m \u001b[0me\u001b[0m\u001b[1;33m:\u001b[0m\u001b[1;33m\u001b[0m\u001b[1;33m\u001b[0m\u001b[0m\n\u001b[0;32m    906\u001b[0m                 \u001b[0mself\u001b[0m\u001b[1;33m.\u001b[0m\u001b[0mlog\u001b[0m\u001b[1;33m.\u001b[0m\u001b[0mwarning\u001b[0m\u001b[1;33m(\u001b[0m\u001b[1;34m\"Invalid Message:\"\u001b[0m\u001b[1;33m,\u001b[0m \u001b[0mexc_info\u001b[0m\u001b[1;33m=\u001b[0m\u001b[1;32mTrue\u001b[0m\u001b[1;33m)\u001b[0m\u001b[1;33m\u001b[0m\u001b[1;33m\u001b[0m\u001b[0m\n",
      "\u001b[1;31mKeyboardInterrupt\u001b[0m: Interrupted by user"
     ]
    }
   ],
   "source": [
    "print(\"\"\"\n",
    "*****************************\n",
    "ATM Makinesi\n",
    "\n",
    "İşlemler;\n",
    "1.Bakiye Sorgulama\n",
    "2.Para Yatırma\n",
    "3.Para Çekme\n",
    "\n",
    "Programdan çıkmak için 'q' ya basınız.\n",
    "*****************************\n",
    "\"\"\")\n",
    "\n",
    "bakiye=1000\n",
    "\n",
    "while True: #Sürekli bir döngü \n",
    "    \n",
    "    işlem = input(\"Yapmak istediğiniz işlemi seçiniz: \")\n",
    "    \n",
    "    if(işlem == \"q\"):\n",
    "        print(\"İyi Günler... Yine Bekleriz\")\n",
    "        break   #q'ya basıldığı zaman döngüyü keser ve işlemi kapatır. \n",
    "    \n",
    "    elif(işlem == \"1\"):\n",
    "        print(\"Bakiye {} TL\".format(bakiye))\n",
    "        \n",
    "    elif(işlem == \"2\"):\n",
    "        miktar = int(input(\"Yatırılacak Para Miktarı Giriniz:\"))\n",
    "        bakiye += miktar  #Yatırılan para miktarını bakiye'nin üzerine ekleme.\n",
    "        \n",
    "    elif(işlem == \"3\"):\n",
    "        miktar = int(input(\"Çekilecek Para Miktarını Giriniz:\"))\n",
    "        if(bakiye - miktar < 0):     #Çekilen para bakiyeden büyük ise uyarı ver.\n",
    "            print(\"Bakiye Yetersiz\")\n",
    "            continue #başka bir işlem gerçekleşmesin diye döngüyü başa götürüyoruz.\n",
    "            \n",
    "        bakiye -= miktar    #Eğer çekilen miktar bakiyeden az ise çekilen miktarı bakiyeden azalt.\n",
    "        \n",
    "    else:\n",
    "        print(\"Geçersiz İşlem Girdiniz...\")"
   ]
  },
  {
   "cell_type": "code",
   "execution_count": null,
   "metadata": {},
   "outputs": [],
   "source": [
    "# Faktöriyel Bulma"
   ]
  },
  {
   "cell_type": "code",
   "execution_count": null,
   "metadata": {},
   "outputs": [
    {
     "name": "stdout",
     "output_type": "stream",
     "text": [
      "\n",
      "************************************\n",
      "Fakötriyel Hesaplama\n",
      "************************************\n",
      "Çıkmak için q'ya basınız.\n",
      "\n"
     ]
    },
    {
     "name": "stdin",
     "output_type": "stream",
     "text": [
      "Sayı: 4\n"
     ]
    },
    {
     "name": "stdout",
     "output_type": "stream",
     "text": [
      "Faktöriyel: 24\n"
     ]
    }
   ],
   "source": [
    "print(\"\"\"\n",
    "************************************\n",
    "Fakötriyel Hesaplama\n",
    "************************************\n",
    "Çıkmak için q'ya basınız.\n",
    "\"\"\")\n",
    "\n",
    "while True:    #Kullanıcı q'ya basana kadar bu işlemi sürekli devam ettir.\n",
    "    sayı = input(\"Sayı:\")\n",
    "    if(sayı == \"q\"):\n",
    "        print(\"Program Sonlandırılıyor ...\")\n",
    "        break\n",
    "        \n",
    "    else:\n",
    "        sayı = int(sayı)  #Eğer kullanıcı q'ya basmadıysa sayımızı stringden integer'a çeviriyoruz.\n",
    "        \n",
    "        faktoriyel  = 1\n",
    "        \n",
    "        for i in range (2,sayı+1):\n",
    "            ## print(\"Faktöriyel\",faktoriyel,\"i:\",i)\n",
    "            faktoriyel *=i    #Her bir döngüde faktöriyel i değeri ile çarpılıp tekrar faktöriyel değerine alacak.\n",
    "        print(\"Faktöriyel:\",faktoriyel)    \n",
    "            \n",
    "        "
   ]
  },
  {
   "cell_type": "code",
   "execution_count": null,
   "metadata": {},
   "outputs": [],
   "source": [
    "# Fibonacci Serisi\n",
    "# Fibonacci Serisi yeni bir sayıyı bir önceki sayının toplamı şeklinde gösterir. --> 1,1,2,3,5,8,13,21,34....."
   ]
  },
  {
   "cell_type": "code",
   "execution_count": 28,
   "metadata": {},
   "outputs": [
    {
     "name": "stdout",
     "output_type": "stream",
     "text": [
      "[1, 1, 2, 3, 5, 8, 13, 21, 34, 55, 89, 144]\n"
     ]
    }
   ],
   "source": [
    "ilk_sayı = 1\n",
    "\n",
    "ikincisayi = 1\n",
    "\n",
    "fibonacci = [ilk_sayı,ikincisayi]\n",
    "for i in range(10):\n",
    "\n",
    "\n",
    "    ilk_sayı,ikincisayi = ikincisayi,ilk_sayı + ikincisayi\n",
    "\n",
    "    fibonacci.append(ikincisayi)\n",
    "\n",
    "print(fibonacci)\n",
    "\n"
   ]
  },
  {
   "cell_type": "code",
   "execution_count": null,
   "metadata": {},
   "outputs": [],
   "source": []
  }
 ],
 "metadata": {
  "kernelspec": {
   "display_name": "Python 3",
   "language": "python",
   "name": "python3"
  },
  "language_info": {
   "codemirror_mode": {
    "name": "ipython",
    "version": 3
   },
   "file_extension": ".py",
   "mimetype": "text/x-python",
   "name": "python",
   "nbconvert_exporter": "python",
   "pygments_lexer": "ipython3",
   "version": "3.8.5"
  }
 },
 "nbformat": 4,
 "nbformat_minor": 4
}
