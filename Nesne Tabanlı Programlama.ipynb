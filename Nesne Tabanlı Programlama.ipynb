{
 "cells": [
  {
   "cell_type": "markdown",
   "metadata": {},
   "source": [
    "#### Class Tanımlama ve Obje Üretme"
   ]
  },
  {
   "cell_type": "code",
   "execution_count": 1,
   "metadata": {},
   "outputs": [],
   "source": [
    "class Araba():\n",
    "    model =\"Renault Megane\"\n",
    "    renk = \"Gümüş\"\n",
    "    beygir_gücü = 110\n",
    "    silindir_hacmi = 4"
   ]
  },
  {
   "cell_type": "code",
   "execution_count": 2,
   "metadata": {},
   "outputs": [],
   "source": [
    "araba1 = Araba()"
   ]
  },
  {
   "cell_type": "code",
   "execution_count": 3,
   "metadata": {},
   "outputs": [
    {
     "data": {
      "text/plain": [
       "<__main__.Araba at 0x4d5f5e0>"
      ]
     },
     "execution_count": 3,
     "metadata": {},
     "output_type": "execute_result"
    }
   ],
   "source": [
    "araba1"
   ]
  },
  {
   "cell_type": "code",
   "execution_count": 4,
   "metadata": {},
   "outputs": [],
   "source": [
    "araba2 = Araba()"
   ]
  },
  {
   "cell_type": "code",
   "execution_count": 5,
   "metadata": {},
   "outputs": [
    {
     "data": {
      "text/plain": [
       "<__main__.Araba at 0x4d5fc40>"
      ]
     },
     "execution_count": 5,
     "metadata": {},
     "output_type": "execute_result"
    }
   ],
   "source": [
    "araba2"
   ]
  },
  {
   "cell_type": "code",
   "execution_count": 6,
   "metadata": {},
   "outputs": [
    {
     "data": {
      "text/plain": [
       "'Renault Megane'"
      ]
     },
     "execution_count": 6,
     "metadata": {},
     "output_type": "execute_result"
    }
   ],
   "source": [
    "araba1.model"
   ]
  },
  {
   "cell_type": "code",
   "execution_count": 7,
   "metadata": {},
   "outputs": [
    {
     "data": {
      "text/plain": [
       "110"
      ]
     },
     "execution_count": 7,
     "metadata": {},
     "output_type": "execute_result"
    }
   ],
   "source": [
    "araba1.beygir_gücü"
   ]
  },
  {
   "cell_type": "code",
   "execution_count": 19,
   "metadata": {},
   "outputs": [],
   "source": [
    "# __init__ fonksiyonu kullanma   --> Farklı değerler vererek obje oluşturmak"
   ]
  },
  {
   "cell_type": "code",
   "execution_count": 11,
   "metadata": {},
   "outputs": [],
   "source": [
    "class Araba():\n",
    "    def __init__(self,model,renk,beygir_gücü,silindir_hacmi):\n",
    "        self.model = model\n",
    "        self.renk = renk\n",
    "        self.beygir_gücü = beygir_gücü\n",
    "        self.silindir_hacmi = silindir_hacmi"
   ]
  },
  {
   "cell_type": "code",
   "execution_count": 12,
   "metadata": {},
   "outputs": [],
   "source": [
    "araba1 = Araba(\"Opel Corsa\",\"Siyah\",110,4)"
   ]
  },
  {
   "cell_type": "code",
   "execution_count": 17,
   "metadata": {},
   "outputs": [
    {
     "data": {
      "text/plain": [
       "'Opel Corsa'"
      ]
     },
     "execution_count": 17,
     "metadata": {},
     "output_type": "execute_result"
    }
   ],
   "source": [
    "araba1.model"
   ]
  },
  {
   "cell_type": "code",
   "execution_count": 15,
   "metadata": {},
   "outputs": [],
   "source": [
    "araba2 = Araba(\"Mercedes E300\",\"Metalik\",250,8)"
   ]
  },
  {
   "cell_type": "code",
   "execution_count": 18,
   "metadata": {},
   "outputs": [
    {
     "data": {
      "text/plain": [
       "'Mercedes E300'"
      ]
     },
     "execution_count": 18,
     "metadata": {},
     "output_type": "execute_result"
    }
   ],
   "source": [
    "araba2.model"
   ]
  },
  {
   "cell_type": "code",
   "execution_count": 20,
   "metadata": {},
   "outputs": [
    {
     "data": {
      "text/plain": [
       "'Siyah'"
      ]
     },
     "execution_count": 20,
     "metadata": {},
     "output_type": "execute_result"
    }
   ],
   "source": [
    "araba1.renk"
   ]
  },
  {
   "cell_type": "code",
   "execution_count": 21,
   "metadata": {},
   "outputs": [
    {
     "data": {
      "text/plain": [
       "'Metalik'"
      ]
     },
     "execution_count": 21,
     "metadata": {},
     "output_type": "execute_result"
    }
   ],
   "source": [
    "araba2.renk"
   ]
  },
  {
   "cell_type": "code",
   "execution_count": 22,
   "metadata": {},
   "outputs": [],
   "source": [
    "# Sınıf içinde Metod Tanımlama"
   ]
  },
  {
   "cell_type": "code",
   "execution_count": 39,
   "metadata": {},
   "outputs": [],
   "source": [
    "class Yazılımcı():\n",
    "    \n",
    "    def __init__(self,isim,soyisim,numara,maaş,diller):\n",
    "        self.isim = isim\n",
    "        self.soyisim = soyisim\n",
    "        self.numara = numara\n",
    "        self.maaş = maaş\n",
    "        self.diller = diller\n",
    "        \n",
    "    def bilgilerigoster(self):\n",
    "        print(\"\"\"\"\n",
    "        Yazılımcı Objesinin Özellikleri\n",
    "        \n",
    "        İsim : {}\n",
    "        \n",
    "        Soyisim : {}\n",
    "        \n",
    "        Numara : {}\n",
    "        \n",
    "        Maaş : {}\n",
    "        \n",
    "        Bildiği Diller : {}\n",
    "        \n",
    "        \"\"\".format(self.isim,self.soyisim,self.numara,self.maaş,self.diller))\n",
    "        \n",
    "    def zam_yap(self,zam_miktarı):\n",
    "        print(\"Zam yapıldı ...\")\n",
    "        self.maaş += zam_miktarı\n",
    "            \n",
    "         \n",
    "    def dil_ekle(self,yeni_dil):\n",
    "        print(\"Yeni bir dil eklendi ...\")\n",
    "        self.diller.append(yeni_dil)            \n",
    "       "
   ]
  },
  {
   "cell_type": "code",
   "execution_count": 43,
   "metadata": {},
   "outputs": [],
   "source": [
    "yazılımcı1 = Yazılımcı(\"İbrahim\",\"Kocabaş\",12345,3000,[\"Python\",\"Java\",\"C\"])"
   ]
  },
  {
   "cell_type": "code",
   "execution_count": 44,
   "metadata": {},
   "outputs": [
    {
     "name": "stdout",
     "output_type": "stream",
     "text": [
      "\"\n",
      "        Yazılımcı Objesinin Özellikleri\n",
      "        \n",
      "        İsim : İbrahim\n",
      "        \n",
      "        Soyisim : Kocabaş\n",
      "        \n",
      "        Numara : 12345\n",
      "        \n",
      "        Maaş : 3000\n",
      "        \n",
      "        Bildiği Diller : ['Python', 'Java', 'C']\n",
      "        \n",
      "        \n"
     ]
    }
   ],
   "source": [
    "yazılımcı1.bilgilerigoster()"
   ]
  },
  {
   "cell_type": "code",
   "execution_count": 45,
   "metadata": {},
   "outputs": [
    {
     "name": "stdout",
     "output_type": "stream",
     "text": [
      "Yeni bir dil eklendi ...\n"
     ]
    }
   ],
   "source": [
    "yazılımcı1.dil_ekle(\"R\")"
   ]
  },
  {
   "cell_type": "code",
   "execution_count": 47,
   "metadata": {},
   "outputs": [
    {
     "name": "stdout",
     "output_type": "stream",
     "text": [
      "Zam yapıldı ...\n"
     ]
    }
   ],
   "source": [
    "yazılımcı1.zam_yap(500)"
   ]
  },
  {
   "cell_type": "code",
   "execution_count": 48,
   "metadata": {},
   "outputs": [
    {
     "name": "stdout",
     "output_type": "stream",
     "text": [
      "\"\n",
      "        Yazılımcı Objesinin Özellikleri\n",
      "        \n",
      "        İsim : İbrahim\n",
      "        \n",
      "        Soyisim : Kocabaş\n",
      "        \n",
      "        Numara : 12345\n",
      "        \n",
      "        Maaş : 3500\n",
      "        \n",
      "        Bildiği Diller : ['Python', 'Java', 'C', 'R']\n",
      "        \n",
      "        \n"
     ]
    }
   ],
   "source": [
    "yazılımcı1.bilgilerigoster()"
   ]
  },
  {
   "cell_type": "code",
   "execution_count": 49,
   "metadata": {},
   "outputs": [],
   "source": [
    "# Inheritance (Miras-Kalıtım)"
   ]
  },
  {
   "cell_type": "code",
   "execution_count": 79,
   "metadata": {},
   "outputs": [],
   "source": [
    "class Çalışan():\n",
    "    \n",
    "    def __init__(self,isim,maaş,departman):\n",
    "        print(\"Çalışan sınıfının init fonskyionu\")\n",
    "        \n",
    "        self.isim = isim\n",
    "        self.maaş = maaş\n",
    "        self.departman = departman\n",
    "        \n",
    "        \n",
    "    def bilgilerigöster(self):\n",
    "        print(\" **Çalışan Sınıfının Bilgileri** \")\n",
    "        \n",
    "        print(\"İsim : {}\\nMaaş : {}\\nDepartman : {}\\n\".format(self.isim, self.maaş, self.departman))\n",
    "        \n",
    "    \n",
    "    def departman_değiştir(self,yeni_departman):\n",
    "        print(\"Departman değişikliği gerçekleştirildi...\")\n",
    "        self.departman = yeni_departman\n",
    "        \n",
    "    "
   ]
  },
  {
   "cell_type": "code",
   "execution_count": 80,
   "metadata": {},
   "outputs": [],
   "source": [
    "class Yönetici(Çalışan):\n",
    "    pass"
   ]
  },
  {
   "cell_type": "code",
   "execution_count": 72,
   "metadata": {},
   "outputs": [
    {
     "name": "stdout",
     "output_type": "stream",
     "text": [
      "Çalışan sınıfının init fonskyionu\n"
     ]
    }
   ],
   "source": [
    "yönetici = Yönetici(\"İbrahim Kocabaş\",3000,\"Bilişim\")"
   ]
  },
  {
   "cell_type": "code",
   "execution_count": 81,
   "metadata": {},
   "outputs": [
    {
     "name": "stdout",
     "output_type": "stream",
     "text": [
      " **Çalışan Sınıfının Bilgileri** \n",
      "\n",
      "        İsim : İbrahim Kocabaş \n",
      "        \n",
      "        Maaş : 3000\n",
      "        \n",
      "        Departman : Bilişim \n"
     ]
    }
   ],
   "source": [
    "yönetici.bilgilerigöster()"
   ]
  },
  {
   "cell_type": "code",
   "execution_count": 82,
   "metadata": {},
   "outputs": [
    {
     "name": "stdout",
     "output_type": "stream",
     "text": [
      "Departman değişikliği gerçekleştirildi ...\n"
     ]
    }
   ],
   "source": [
    "yönetici.departman_değiştir(\"İnsan Kaynakları\")"
   ]
  },
  {
   "cell_type": "code",
   "execution_count": 84,
   "metadata": {},
   "outputs": [
    {
     "name": "stdout",
     "output_type": "stream",
     "text": [
      " **Çalışan Sınıfının Bilgileri** \n",
      "\n",
      "        İsim : İbrahim Kocabaş \n",
      "        \n",
      "        Maaş : 3000\n",
      "        \n",
      "        Departman : İnsan Kaynakları \n"
     ]
    }
   ],
   "source": [
    "yönetici.bilgilerigöster()"
   ]
  },
  {
   "cell_type": "code",
   "execution_count": 85,
   "metadata": {},
   "outputs": [],
   "source": [
    "# Overriding(İptal Etme - Üzerine Yazma)"
   ]
  },
  {
   "cell_type": "code",
   "execution_count": 110,
   "metadata": {},
   "outputs": [],
   "source": [
    "class Çalışan():\n",
    "    \n",
    "    def __init__(self,isim,maaş,departman):\n",
    "        print(\"Çalışan sınıfının init fonskyionu\")\n",
    "        \n",
    "        self.isim = isim\n",
    "        self.maaş = maaş\n",
    "        self.departman = departman\n",
    "        \n",
    "        \n",
    "    def bilgilerigöster(self):\n",
    "        print(\" **Çalışan Sınıfının Bilgileri** \")\n",
    "        \n",
    "        print(\"İsim : {}\\nMaaş : {}\\nDepartman : {}\\n\".format(self.isim, self.maaş, self.departman))\n",
    "        \n",
    "    \n",
    "    def departman_değiştir(self,yeni_departman):\n",
    "        print(\"Departman değişikliği gerçekleştirildi...\")\n",
    "        self.departman = yeni_departman"
   ]
  },
  {
   "cell_type": "code",
   "execution_count": 107,
   "metadata": {},
   "outputs": [],
   "source": [
    "# Yönetici sınıfına çalışanlardan ekstra olarak özelliklik etmek istersek init fonk.yeniden tanımlayıp özelliğimizi ilave ediyoruz.\n",
    "class Yönetici(Çalışan):\n",
    "    def __init__(self,isim,maaş,departman,kişi_sayısı):      #override yapma işlemi\n",
    "        print(\"Yönetici sınıfının init fonskyionu\")\n",
    "        \n",
    "        self.isim = isim\n",
    "        self.maaş = maaş\n",
    "        self.departman = departman\n",
    "        self.kişi_sayısı = kişi_sayısı\n",
    "        \n",
    "        \n",
    "    def bilgilerigöster(self):\n",
    "        print(\" **Yönetici Sınıfının Bilgileri** \")\n",
    "        \n",
    "        print(\"İsim : {}\\nMaaş : {}\\nDepartman : {}\\nSorumlu Olduğu Kişi Sayısı : {}\".format(self.isim, self.maaş, self.departman,self.kişi_sayısı))   \n",
    "        \n",
    "     \n",
    "    def zam_yap(self,zam_miktarı):\n",
    "        print(\"Zam yapıldı...\")\n",
    "        self.maaş += zam_miktarı"
   ]
  },
  {
   "cell_type": "code",
   "execution_count": 108,
   "metadata": {},
   "outputs": [
    {
     "name": "stdout",
     "output_type": "stream",
     "text": [
      "Yönetici sınıfının init fonskyionu\n"
     ]
    }
   ],
   "source": [
    "yönetici = Yönetici(\"Resul Kocabaş\",3500,\"Bilişim\",10)"
   ]
  },
  {
   "cell_type": "code",
   "execution_count": 109,
   "metadata": {},
   "outputs": [
    {
     "name": "stdout",
     "output_type": "stream",
     "text": [
      " **Yönetici Sınıfının Bilgileri** \n",
      "İsim : Resul Kocabaş\n",
      "Maaş : 3500\n",
      "Departman : Bilişim\n",
      "Sorumlu Olduğu Kişi Sayısı : 10\n"
     ]
    }
   ],
   "source": [
    "yönetici.bilgilerigöster()"
   ]
  },
  {
   "cell_type": "code",
   "execution_count": null,
   "metadata": {},
   "outputs": [],
   "source": []
  },
  {
   "cell_type": "markdown",
   "metadata": {},
   "source": [
    "**Super**: Override ettiğimiz bir metodun içinde aynı zamanda miras aldığımız bir metodu kullanmak istediğimiz zamanlarda kullanılır."
   ]
  },
  {
   "cell_type": "code",
   "execution_count": 111,
   "metadata": {},
   "outputs": [],
   "source": [
    "class Çalışan():\n",
    "    \n",
    "    def __init__(self,isim,maaş,departman):\n",
    "        print(\"Çalışan sınıfının init fonskyionu\")\n",
    "        \n",
    "        self.isim = isim\n",
    "        self.maaş = maaş\n",
    "        self.departman = departman\n",
    "        \n",
    "        \n",
    "    def bilgilerigöster(self):\n",
    "        print(\" **Çalışan Sınıfının Bilgileri** \")\n",
    "        \n",
    "        print(\"İsim : {}\\nMaaş : {}\\nDepartman : {}\\n\".format(self.isim, self.maaş, self.departman))\n",
    "        \n",
    "    \n",
    "    def departman_değiştir(self,yeni_departman):\n",
    "        print(\"Departman değişikliği gerçekleştirildi...\")\n",
    "        self.departman = yeni_departman"
   ]
  },
  {
   "cell_type": "code",
   "execution_count": 113,
   "metadata": {},
   "outputs": [],
   "source": [
    "class Yönetici(Çalışan):\n",
    "    def __init__(self,isim,maaş,departman,kişi_sayısı):      \n",
    "        \n",
    "        super().__init__(isim,maaş,departman)     # tekrardan isim,maaş,departman tanımlamak yerine super kullanıyoruz.\n",
    "        print(\"Yönetici sınıfının init fonskyionu\")\n",
    "        self.kişi_sayısı = kişi_sayısı\n",
    "        \n",
    "    def bilgilerigöster(self):\n",
    "        print(\" **Yönetici Sınıfının Bilgileri** \")\n",
    "        \n",
    "        print(\"İsim : {}\\nMaaş : {}\\nDepartman : {}\\nSorumlu Olduğu Kişi Sayısı : {}\".format(self.isim, self.maaş, self.departman,self.kişi_sayısı))   \n",
    "        \n",
    "     \n",
    "    def zam_yap(self,zam_miktarı):\n",
    "        print(\"Zam yapıldı...\")\n",
    "        self.maaş += zam_miktarı"
   ]
  },
  {
   "cell_type": "code",
   "execution_count": 114,
   "metadata": {},
   "outputs": [
    {
     "name": "stdout",
     "output_type": "stream",
     "text": [
      "Çalışan sınıfının init fonskyionu\n",
      "Yönetici sınıfının init fonskyionu\n"
     ]
    }
   ],
   "source": [
    "yönetici = Yönetici(\"İbrahim Kocabaş\",3000,\"Bilişim\",5)"
   ]
  },
  {
   "cell_type": "code",
   "execution_count": 115,
   "metadata": {},
   "outputs": [
    {
     "name": "stdout",
     "output_type": "stream",
     "text": [
      " **Yönetici Sınıfının Bilgileri** \n",
      "İsim : İbrahim Kocabaş\n",
      "Maaş : 3000\n",
      "Departman : Bilişim\n",
      "Sorumlu Olduğu Kişi Sayısı : 5\n"
     ]
    }
   ],
   "source": [
    "yönetici.bilgilerigöster()"
   ]
  },
  {
   "cell_type": "code",
   "execution_count": null,
   "metadata": {},
   "outputs": [],
   "source": []
  },
  {
   "cell_type": "markdown",
   "metadata": {},
   "source": [
    "#### Kodlama Egzersizi"
   ]
  },
  {
   "cell_type": "code",
   "execution_count": 1,
   "metadata": {},
   "outputs": [],
   "source": [
    "#Kumanda Sınıfı Geliştirme"
   ]
  },
  {
   "cell_type": "code",
   "execution_count": null,
   "metadata": {
    "collapsed": true,
    "jupyter": {
     "outputs_hidden": true
    }
   },
   "outputs": [
    {
     "name": "stdout",
     "output_type": "stream",
     "text": [
      "Kumanda Oluşturuluyor...\n",
      "*******************\n",
      "\n",
      "Televizyon Uygulaması\n",
      "\n",
      "İşlemler ;\n",
      "\n",
      "1. Televizyonu Aç\n",
      "\n",
      "2. Televizyonu Kapat\n",
      "\n",
      "3. Televizyon Bilgileri\n",
      "\n",
      "4. Kanal Sayısını Öğrenme\n",
      "\n",
      "5. Kanal Ekle\n",
      "\n",
      "6. Rastgele Kanal'a Geç\n",
      "\n",
      "7. Sesi Azalt Ya da Artır\n",
      "Çıkmak için 'q' ya basın.\n",
      "*******************\n"
     ]
    },
    {
     "name": "stdin",
     "output_type": "stream",
     "text": [
      "İşlemi Seçiniz: 2\n"
     ]
    },
    {
     "name": "stdout",
     "output_type": "stream",
     "text": [
      "Tv kapatılıyor.\n"
     ]
    },
    {
     "name": "stdin",
     "output_type": "stream",
     "text": [
      "İşlemi Seçiniz: 1\n"
     ]
    },
    {
     "name": "stdout",
     "output_type": "stream",
     "text": [
      "Tv Açılıyor.\n"
     ]
    },
    {
     "name": "stdin",
     "output_type": "stream",
     "text": [
      "İşlemi Seçiniz: 3\n"
     ]
    },
    {
     "name": "stdout",
     "output_type": "stream",
     "text": [
      "Tv Durumu : Açık\n",
      "Ses: 0\n",
      "Kanallar: ['Trt']\n",
      "Şu anki kanal: Trt\n",
      "\n"
     ]
    },
    {
     "name": "stdin",
     "output_type": "stream",
     "text": [
      "İşlemi Seçiniz: 7\n",
      "Azaltmak için '<' Artırmak İçin '>' Tamam ise 'q' ya basın <\n",
      "Azaltmak için '<' Artırmak İçin '>' Tamam ise 'q' ya basın <\n",
      "Azaltmak için '<' Artırmak İçin '>' Tamam ise 'q' ya basın <\n",
      "Azaltmak için '<' Artırmak İçin '>' Tamam ise 'q' ya basın >\n"
     ]
    },
    {
     "name": "stdout",
     "output_type": "stream",
     "text": [
      "Ses: 1\n"
     ]
    },
    {
     "name": "stdin",
     "output_type": "stream",
     "text": [
      "Azaltmak için '<' Artırmak İçin '>' Tamam ise 'q' ya basın >\n"
     ]
    },
    {
     "name": "stdout",
     "output_type": "stream",
     "text": [
      "Ses: 2\n"
     ]
    },
    {
     "name": "stdin",
     "output_type": "stream",
     "text": [
      "Azaltmak için '<' Artırmak İçin '>' Tamam ise 'q' ya basın >\n"
     ]
    },
    {
     "name": "stdout",
     "output_type": "stream",
     "text": [
      "Ses: 3\n"
     ]
    },
    {
     "name": "stdin",
     "output_type": "stream",
     "text": [
      "Azaltmak için '<' Artırmak İçin '>' Tamam ise 'q' ya basın >\n"
     ]
    },
    {
     "name": "stdout",
     "output_type": "stream",
     "text": [
      "Ses: 4\n"
     ]
    },
    {
     "name": "stdin",
     "output_type": "stream",
     "text": [
      "Azaltmak için '<' Artırmak İçin '>' Tamam ise 'q' ya basın >\n"
     ]
    },
    {
     "name": "stdout",
     "output_type": "stream",
     "text": [
      "Ses: 5\n"
     ]
    },
    {
     "name": "stdin",
     "output_type": "stream",
     "text": [
      "Azaltmak için '<' Artırmak İçin '>' Tamam ise 'q' ya basın >\n"
     ]
    },
    {
     "name": "stdout",
     "output_type": "stream",
     "text": [
      "Ses: 6\n"
     ]
    },
    {
     "name": "stdin",
     "output_type": "stream",
     "text": [
      "Azaltmak için '<' Artırmak İçin '>' Tamam ise 'q' ya basın 6\n"
     ]
    },
    {
     "name": "stdout",
     "output_type": "stream",
     "text": [
      "Ses Güncellendi: 6\n"
     ]
    },
    {
     "name": "stdin",
     "output_type": "stream",
     "text": [
      "İşlemi Seçiniz: 6\n"
     ]
    },
    {
     "name": "stdout",
     "output_type": "stream",
     "text": [
      "Şu anki Kanal: Trt\n"
     ]
    },
    {
     "name": "stdin",
     "output_type": "stream",
     "text": [
      "İşlemi Seçiniz: 5\n",
      "Eklemek İstediğiniz Kanalları ',' ile ayırarak girin: ATV,FOX\n"
     ]
    },
    {
     "name": "stdout",
     "output_type": "stream",
     "text": [
      "Kanal Eklendi  ATV\n",
      "Kanal Eklendi  FOX\n",
      "Kanal Listesi Başarıyla Güncellendi.\n"
     ]
    },
    {
     "name": "stdin",
     "output_type": "stream",
     "text": [
      "İşlemi Seçiniz: 3\n"
     ]
    },
    {
     "name": "stdout",
     "output_type": "stream",
     "text": [
      "Tv Durumu : Açık\n",
      "Ses: 6\n",
      "Kanallar: ['Trt', 'ATV', 'FOX']\n",
      "Şu anki kanal: Trt\n",
      "\n"
     ]
    },
    {
     "name": "stdin",
     "output_type": "stream",
     "text": [
      "İşlemi Seçiniz: 6\n"
     ]
    },
    {
     "name": "stdout",
     "output_type": "stream",
     "text": [
      "Şu anki Kanal: ATV\n"
     ]
    }
   ],
   "source": [
    "import random\n",
    "import time\n",
    "\n",
    "class Kumanda():\n",
    "\n",
    "    def __init__(self,tv_durum = \"Kapalı\",tv_ses = 0,kanal_listesi = [\"Trt\"],kanal = \"Trt\"):  # TV başlangıç durumu\n",
    "        print(\"Kumanda Oluşturuluyor...\")\n",
    "\n",
    "        self.tv_ses =  tv_ses\n",
    "        self.tv_durum = tv_durum\n",
    "        self.kanal_listesi = kanal_listesi\n",
    "        self.kanal = kanal\n",
    "        \n",
    "    def sesi_azalt_artir(self):              # TV ses azaltma ya da artırma\n",
    "\n",
    "        while True:\n",
    "            karakter = input(\"Azaltmak için '<' Artırmak İçin '>' Tamam ise 'q' ya basın\")\n",
    "\n",
    "            if (karakter == \"<\"):\n",
    "                if (self.tv_ses != 0):\n",
    "                    self.tv_ses -= 1\n",
    "                    print(\"Ses:\",self.tv_ses)\n",
    "                    \n",
    "            elif (karakter == \">\"):\n",
    "                if (self.tv_ses != 32):\n",
    "                    self.tv_ses += 1\n",
    "                    print(\"Ses:\",self.tv_ses)\n",
    "            else:\n",
    "                print(\"Ses Güncellendi:\",self.tv_ses)\n",
    "                break\n",
    "                \n",
    "    def tv_kapat(self):                # TV Kapatma\n",
    "        print(\"Tv kapatılıyor.\")\n",
    "        self.tv_durum = \"Kapalı\"\n",
    "        \n",
    "    def tv_aç(self):                   # TV Açma\n",
    "        print(\"Tv Açılıyor.\")\n",
    "        self.tv_durum = \"Açık\"\n",
    "        \n",
    "    def __str__(self):                 # TV durum bilgilerini gösterme\n",
    "        return \"Tv Durumu : {}\\nSes: {}\\nKanallar: {}\\nŞu anki kanal: {}\\n\".format(self.tv_durum,self.tv_ses,self.kanal_listesi,self.kanal)\n",
    "    \n",
    "    def __len__(self):                            # Kanal listesini gösterme\n",
    "        return  len(self.kanal_listesi)\n",
    "\n",
    "    def rastgele_kanal(self):                                          # Kanal listesinden rastgele kanala geçme\n",
    "        rastgele = random.randint(0,len(self.kanal_listesi)-1)\n",
    "        self.kanal = self.kanal_listesi[rastgele]\n",
    "        print(\"Şu anki Kanal:\", self.kanal)\n",
    "        \n",
    "    def kanal_ekle(self,kanal):                                # Kanal ekleme\n",
    "        print(\"Kanal Eklendi \",kanal)\n",
    "        self.kanal_listesi.append(kanal)\n",
    "\n",
    "\n",
    "kumanda = Kumanda()        # Kumanda sınıfından obje oluşturma\n",
    "\n",
    "print(\"\"\"*******************\n",
    "\n",
    "Televizyon Uygulaması\n",
    "\n",
    "İşlemler ;\n",
    "\n",
    "1. Televizyonu Aç\n",
    "\n",
    "2. Televizyonu Kapat\n",
    "\n",
    "3. Televizyon Bilgileri\n",
    "\n",
    "4. Kanal Sayısını Öğrenme\n",
    "\n",
    "5. Kanal Ekle\n",
    "\n",
    "6. Rastgele Kanal'a Geç\n",
    "\n",
    "7. Sesi Azalt Ya da Artır\n",
    "Çıkmak için 'q' ya basın.\n",
    "*******************\"\"\")\n",
    "\n",
    "while True:\n",
    "\n",
    "    işlem = input(\"İşlemi Seçiniz:\")\n",
    "    if (işlem == \"q\"):\n",
    "        print(\"Programdan Çıkılıyor...\")\n",
    "        break\n",
    "        \n",
    "    if (işlem == \"1\"):\n",
    "        kumanda.tv_aç()\n",
    "        \n",
    "    elif (işlem == \"2\"):\n",
    "        kumanda.tv_kapat()\n",
    "        \n",
    "    elif (işlem == \"3\"):\n",
    "        print(kumanda)\n",
    "        \n",
    "    elif (işlem == \"4\"):\n",
    "        print(\"Kanal Sayısı: \",len(kumanda))\n",
    "        \n",
    "    elif (işlem == \"5\"):\n",
    "        kanallar = input(\"Eklemek İstediğiniz Kanalları ',' ile ayırarak girin:\")\n",
    "        eklenecekler = kanallar.split(\",\")\n",
    "        for i in eklenecekler:\n",
    "            kumanda.kanal_ekle(i)\n",
    "        print(\"Kanal Listesi Başarıyla Güncellendi.\")\n",
    "        \n",
    "    elif (işlem == \"6\"):\n",
    "        kumanda.rastgele_kanal()\n",
    "        \n",
    "    elif (işlem == \"7\"):\n",
    "        kumanda.sesi_azalt_artir()\n",
    "        \n",
    "    else:\n",
    "        print(\"Geçersiz İşlem...\")"
   ]
  },
  {
   "cell_type": "code",
   "execution_count": null,
   "metadata": {},
   "outputs": [],
   "source": []
  }
 ],
 "metadata": {
  "kernelspec": {
   "display_name": "Python 3",
   "language": "python",
   "name": "python3"
  },
  "language_info": {
   "codemirror_mode": {
    "name": "ipython",
    "version": 3
   },
   "file_extension": ".py",
   "mimetype": "text/x-python",
   "name": "python",
   "nbconvert_exporter": "python",
   "pygments_lexer": "ipython3",
   "version": "3.8.5"
  }
 },
 "nbformat": 4,
 "nbformat_minor": 4
}
